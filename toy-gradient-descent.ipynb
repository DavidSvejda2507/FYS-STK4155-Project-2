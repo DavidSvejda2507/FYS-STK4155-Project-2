{
 "cells": [
  {
   "cell_type": "markdown",
   "id": "1c10c2b9-614e-4c60-be6c-88f17d6e4bc8",
   "metadata": {},
   "source": [
    "## Summary of simple gradient descent method, for a linear regression\n",
    "\n",
    "Here, we show the functionality of our optimisers library which implements various gradient descent methods."
   ]
  },
  {
   "cell_type": "code",
   "execution_count": 14,
   "id": "34bde28e-186c-4373-9fb3-5cc21c262666",
   "metadata": {},
   "outputs": [],
   "source": [
    "import LinearGDtest as lt\n",
    "import optimisers as op\n",
    "import matplotlib.pyplot as plt\n",
    "import numpy as np"
   ]
  },
  {
   "cell_type": "code",
   "execution_count": 38,
   "id": "f813c206-63eb-4e81-b196-d8c3b4e57d5e",
   "metadata": {},
   "outputs": [
    {
     "name": "stdout",
     "output_type": "stream",
     "text": [
      "\n",
      "\n",
      "Running GD with raw GD optimiser\n",
      "npoints = 1000, Nbatches=100\n",
      "batch_size: 10\n",
      "found the following parameters:\n",
      " beta0 = -2.003815735888132, \n",
      " beta1=1.0131116892469727\n",
      "cost function at last step = 0.010268903587557433\n",
      "converged after 21388 GD steps.\n",
      "\n",
      "\n",
      "Running GD with Momentum GD optimiser\n",
      "npoints = 1000, Nbatches=100\n",
      "batch_size: 10\n",
      "found the following parameters:\n",
      " beta0 = -2.0079776301949104, \n",
      " beta1=1.0118459572121619\n",
      "cost function at last step = 0.010627381434937173\n",
      "converged after 14696 GD steps.\n",
      "\n",
      "\n",
      "Running GD with AdaGrad optimiser\n",
      "npoints = 1000, Nbatches=100\n",
      "batch_size: 10\n",
      "found the following parameters:\n",
      " beta0 = -2.0057822357325894, \n",
      " beta1=1.0126815386668666\n",
      "cost function at last step = 0.011898755318407903\n",
      "converged after 6229 GD steps.\n",
      "\n",
      "\n",
      "Running GD with RMSProp optimiser\n",
      "npoints = 1000, Nbatches=100\n",
      "batch_size: 10\n",
      "found the following parameters:\n",
      " beta0 = -2.0124176789574006, \n",
      " beta1=0.9882092767828508\n",
      "cost function at last step = 0.008032275963930566\n",
      "converged after 24746 GD steps.\n",
      "\n",
      "\n",
      "Running GD with Adam optimiser\n",
      "npoints = 1000, Nbatches=100\n",
      "batch_size: 10\n",
      "found the following parameters:\n",
      " beta0 = -1.986078829669374, \n",
      " beta1=1.0350178113267547\n",
      "cost function at last step = 0.005292205408501724\n",
      "converged after 7088 GD steps.\n"
     ]
    }
   ],
   "source": [
    "optimiserlist = [op.Optimiser(lr=0.1),\n",
    "                 op.MomentumOptimiser(lr=0.1, momentum=4),\n",
    "                 op.AdaGradOptimiser(lr=0.1),\n",
    "                 op.RMSPropOptimiser(lr=0.1),\n",
    "                 op.AdamOptimiser(lr=0.1) \n",
    "                ]\n",
    "#results = lt.generate_linreg_results(optimiserlist, npoints = 1000, Nepochs=10000,   Nbatches=1, noise=0.1, m=1,q=-2, tol=1e-6)\n",
    "results = lt.generate_linreg_results(optimiserlist, npoints = 1000, Nepochs=10000 ,  Nbatches=100, noise=0.1, m=1,q=-2, tol=1e-6)"
   ]
  },
  {
   "cell_type": "code",
   "execution_count": 35,
   "id": "aa941566-ec91-4623-819a-9263b99a409b",
   "metadata": {},
   "outputs": [
    {
     "data": {
      "text/plain": [
       "<module 'LinearGDtest' from '/media/gianmarco/Users/HOME/Desktop/università/Machine Learning/FYS-STK4155-Project-2/LinearGDtest.py'>"
      ]
     },
     "execution_count": 35,
     "metadata": {},
     "output_type": "execute_result"
    }
   ],
   "source": [
    "import importlib \n",
    "importlib.reload(lt)"
   ]
  },
  {
   "cell_type": "code",
   "execution_count": 39,
   "id": "f84b84ac-f7e5-45be-856d-10c07de4ac71",
   "metadata": {},
   "outputs": [
    {
     "data": {
      "image/png": "[encoded data removed]",
      "text/plain": [
       "<Figure size 238.536x360 with 1 Axes>"
      ]
     },
     "metadata": {
      "needs_background": "light"
     },
     "output_type": "display_data"
    }
   ],
   "source": [
    "fig, ax = lt.plot_gd_trajectories(results, optimiserlist)"
   ]
  },
  {
   "cell_type": "code",
   "execution_count": 40,
   "id": "473c2ec6-abb2-4bd9-84f5-5ddd01d9d41a",
   "metadata": {},
   "outputs": [],
   "source": [
    "fig.savefig(\"gd_trajectories_stochastic.pdf\", bbox_inches=\"tight\")\n"
   ]
  },
  {
   "cell_type": "code",
   "execution_count": 16,
   "id": "f9430970-508a-4cd0-9ab9-6a1f601230e9",
   "metadata": {},
   "outputs": [],
   "source": [
    "rng = np.random.default_rng()"
   ]
  },
  {
   "cell_type": "code",
   "execution_count": 17,
   "id": "f9f64bdf-f068-4bd4-bfe3-8953768fca1f",
   "metadata": {},
   "outputs": [
    {
     "data": {
      "text/plain": [
       "Generator(PCG64) at 0x7F56B2EB0F20"
      ]
     },
     "execution_count": 17,
     "metadata": {},
     "output_type": "execute_result"
    }
   ],
   "source": []
  },
  {
   "cell_type": "code",
   "execution_count": null,
   "id": "db5f77f1-ad7a-45e4-a86a-7610e20da573",
   "metadata": {},
   "outputs": [],
   "source": []
  },
  {
   "cell_type": "code",
   "execution_count": null,
   "id": "71b7835b-7bfe-4696-9abc-f1e3a9fcefed",
   "metadata": {},
   "outputs": [],
   "source": []
  },
  {
   "cell_type": "code",
   "execution_count": 24,
   "id": "529d3295-f7d3-4a49-8369-c5c6d22d8401",
   "metadata": {},
   "outputs": [
    {
     "name": "stdout",
     "output_type": "stream",
     "text": [
      "Object `default_rng` not found.\n"
     ]
    }
   ],
   "source": []
  },
  {
   "cell_type": "code",
   "execution_count": null,
   "id": "ba10e5db-78f2-47d3-9586-a62944e19289",
   "metadata": {},
   "outputs": [],
   "source": []
  },
  {
   "cell_type": "code",
   "execution_count": null,
   "id": "3e7dded1-2ca3-4806-98ea-63fe3b603e51",
   "metadata": {},
   "outputs": [],
   "source": []
  }
 ],
 "metadata": {
  "kernelspec": {
   "display_name": "Python 3",
   "language": "python",
   "name": "python3"
  },
  "language_info": {
   "codemirror_mode": {
    "name": "ipython",
    "version": 3
   },
   "file_extension": ".py",
   "mimetype": "text/x-python",
   "name": "python",
   "nbconvert_exporter": "python",
   "pygments_lexer": "ipython3",
   "version": "3.8.8"
  }
 },
 "nbformat": 4,
 "nbformat_minor": 5
}
