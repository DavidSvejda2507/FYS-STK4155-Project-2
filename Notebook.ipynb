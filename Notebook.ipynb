{
 "cells": [
  {
   "cell_type": "markdown",
   "metadata": {},
   "source": [
    "FYS-STK project 2\\\n",
    "By David Svejda Gianmarco Puleo and Henrik Breitenstein\n",
    "\n",
    "All of the results are generated from scripts in this file"
   ]
  },
  {
   "cell_type": "markdown",
   "metadata": {},
   "source": [
    "We start by optimising the learningrate, the number of epochs and the regularisation parameter lambda for stochastic gradient descent:"
   ]
  },
  {
   "cell_type": "code",
   "execution_count": null,
   "metadata": {},
   "outputs": [],
   "source": []
  }
 ],
 "metadata": {
  "kernelspec": {
   "display_name": "Python 3.9.12",
   "language": "python",
   "name": "python3"
  },
  "language_info": {
   "name": "python",
   "version": "3.9.12"
  },
  "orig_nbformat": 4,
  "vscode": {
   "interpreter": {
    "hash": "53336ab67521ee4cf30c357767450a5e815ea235a46dd7a7be825542b670afa7"
   }
  }
 },
 "nbformat": 4,
 "nbformat_minor": 2
}
